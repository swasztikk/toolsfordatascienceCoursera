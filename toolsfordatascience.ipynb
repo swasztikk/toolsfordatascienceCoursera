{
 "cells": [
  {
   "cell_type": "markdown",
   "id": "70be8b99",
   "metadata": {},
   "source": [
    "Data Science Tools and Ecosystem\n"
   ]
  },
  {
   "cell_type": "markdown",
   "id": "c1855efc",
   "metadata": {},
   "source": [
    "Introduction\n",
    "\n",
    "This notebook introduces basic concepts in Data Science, including languages, libraries, and tools commonly used in the field\n"
   ]
  },
  {
   "cell_type": "markdown",
   "id": "fc59bdb2",
   "metadata": {},
   "source": [
    "Data Science Languages\n",
    "\n",
    "Here are some of the popular languages used in Data Science:\n",
    "\n",
    "- Python\n",
    "- R\n",
    "- SQL\n",
    "- Julia\n",
    "- Scala\n"
   ]
  },
  {
   "cell_type": "markdown",
   "id": "2989a50b",
   "metadata": {},
   "source": [
    "Data Science Libraries\n",
    "\n",
    "Here are some commonly used libraries in Data Science:\n",
    "\n",
    "- Pandas\n",
    "- NumPy\n",
    "- Matplotlib\n",
    "- Seaborn\n",
    "- Scikit-learn\n",
    "- TensorFlow\n"
   ]
  },
  {
   "cell_type": "markdown",
   "id": "016f5a2e",
   "metadata": {},
   "source": [
    "Data Science Tools\n",
    "\n",
    "| Tool          | Purpose                |\n",
    "|---------------|------------------------|\n",
    "| Jupyter       | Interactive notebooks  |\n",
    "| VS Code       | Code editor            |\n",
    "| GitHub        | Version control        |\n",
    "| TensorFlow    | Machine learning       |\n",
    "| Tableau       | Data visualization     |\n"
   ]
  },
  {
   "cell_type": "markdown",
   "id": "e48ef664",
   "metadata": {},
   "source": [
    "Arithmetic Expression Examples\n",
    "\n",
    "Below are some examples of basic arithmetic expressions in Python:\n"
   ]
  },
  {
   "cell_type": "code",
   "execution_count": 12,
   "id": "0420b8af",
   "metadata": {},
   "outputs": [
    {
     "data": {
      "text/plain": [
       "17"
      ]
     },
     "execution_count": 12,
     "metadata": {},
     "output_type": "execute_result"
    }
   ],
   "source": [
    "# Multiplying and adding numbers\n",
    "result = (3 * 4) + 5\n",
    "result\n"
   ]
  },
  {
   "cell_type": "code",
   "execution_count": 13,
   "id": "bf2cc931",
   "metadata": {},
   "outputs": [
    {
     "data": {
      "text/plain": [
       "3.3333333333333335"
      ]
     },
     "execution_count": 13,
     "metadata": {},
     "output_type": "execute_result"
    }
   ],
   "source": [
    "# Convert minutes to hours\n",
    "minutes = 200\n",
    "hours = minutes / 60\n",
    "hours\n"
   ]
  },
  {
   "cell_type": "markdown",
   "id": "940d4880",
   "metadata": {},
   "source": [
    "Objectives\n",
    "\n",
    "- Understand the key data science languages and libraries.\n",
    "- Learn to perform arithmetic operations in Python.\n",
    "- Create and manipulate data in Jupyter notebooks.\n",
    "- Visualize data using tables and lists.\n"
   ]
  },
  {
   "cell_type": "markdown",
   "id": "f8b2976a",
   "metadata": {},
   "source": [
    "## Author: \n",
    "\n",
    "Swastik Padhy\n"
   ]
  }
 ],
 "metadata": {
  "kernelspec": {
   "display_name": "Python 3 (ipykernel)",
   "language": "python",
   "name": "python3"
  },
  "language_info": {
   "codemirror_mode": {
    "name": "ipython",
    "version": 3
   },
   "file_extension": ".py",
   "mimetype": "text/x-python",
   "name": "python",
   "nbconvert_exporter": "python",
   "pygments_lexer": "ipython3",
   "version": "3.11.5"
  }
 },
 "nbformat": 4,
 "nbformat_minor": 5
}
